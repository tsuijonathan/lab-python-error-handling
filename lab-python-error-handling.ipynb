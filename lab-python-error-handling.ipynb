{
 "cells": [
  {
   "cell_type": "markdown",
   "id": "25d7736c-ba17-4aff-b6bb-66eba20fbf4e",
   "metadata": {},
   "source": [
    "# Lab | Error Handling"
   ]
  },
  {
   "cell_type": "markdown",
   "id": "bc99b386-7508-47a0-bcdb-d969deaf6c8b",
   "metadata": {
    "editable": true,
    "slideshow": {
     "slide_type": ""
    },
    "tags": []
   },
   "source": [
    "## Exercise: Error Handling for Managing Customer Orders\n",
    "\n",
    "The implementation of your code for managing customer orders assumes that the user will always enter a valid input. \n",
    "\n",
    "For example, we could modify the `initialize_inventory` function to include error handling.\n",
    "   - If the user enters an invalid quantity (e.g., a negative value or a non-numeric value), display an error message and ask them to re-enter the quantity for that product.\n",
    "   - Use a try-except block to handle the error and continue prompting the user until a valid quantity is entered.\n",
    "\n",
    "```python\n",
    "# Step 1: Define the function for initializing the inventory with error handling\n",
    "def initialize_inventory(products):\n",
    "    inventory = {}\n",
    "    for product in products:\n",
    "        valid_quantity = False\n",
    "        while not valid_quantity:\n",
    "            try:\n",
    "                quantity = int(input(f\"Enter the quantity of {product}s available: \"))\n",
    "                if quantity < 0:\n",
    "                    raise ValueError(\"Invalid quantity! Please enter a non-negative value.\")\n",
    "                valid_quantity = True\n",
    "            except ValueError as error:\n",
    "                print(f\"Error: {error}\")\n",
    "        inventory[product] = quantity\n",
    "    return inventory\n",
    "\n",
    "# Or, in another way:\n",
    "\n",
    "def initialize_inventory(products):\n",
    "    inventory = {}\n",
    "    for product in products:\n",
    "        valid_input = False\n",
    "        while not valid_input:\n",
    "            try:\n",
    "                quantity = int(input(f\"Enter the quantity of {product}s available: \"))\n",
    "                if quantity >= 0:\n",
    "                    inventory[product] = quantity\n",
    "                    valid_input = True\n",
    "                else:\n",
    "                    print(\"Quantity cannot be negative. Please enter a valid quantity.\")\n",
    "            except ValueError:\n",
    "                print(\"Invalid input. Please enter a valid quantity.\")\n",
    "    return inventory\n",
    "```\n",
    "\n",
    "Let's enhance your code by implementing error handling to handle invalid inputs.\n",
    "\n",
    "Follow the steps below to complete the exercise:\n",
    "\n",
    "2. Modify the `calculate_total_price` function to include error handling.\n",
    "   - If the user enters an invalid price (e.g., a negative value or a non-numeric value), display an error message and ask them to re-enter the price for that product.\n",
    "   - Use a try-except block to handle the error and continue prompting the user until a valid price is entered.\n",
    "\n",
    "3. Modify the `get_customer_orders` function to include error handling.\n",
    "   - If the user enters an invalid number of orders (e.g., a negative value or a non-numeric value), display an error message and ask them to re-enter the number of orders.\n",
    "   - If the user enters an invalid product name (e.g., a product name that is not in the inventory), or that doesn't have stock available, display an error message and ask them to re-enter the product name. *Hint: you will need to pass inventory as a parameter*\n",
    "   - Use a try-except block to handle the error and continue prompting the user until a valid product name is entered.\n",
    "\n",
    "4. Test your code by running the program and deliberately entering invalid quantities and product names. Make sure the error handling mechanism works as expected.\n"
   ]
  },
  {
   "cell_type": "code",
   "execution_count": 17,
   "id": "9dca14be-cba2-4a27-91c4-c0153d9f695a",
   "metadata": {
    "editable": true,
    "slideshow": {
     "slide_type": ""
    },
    "tags": []
   },
   "outputs": [
    {
     "name": "stdin",
     "output_type": "stream",
     "text": [
      "Enter the quantity of t-shirts available:  2\n",
      "Enter the quantity of mugs available:  2\n",
      "Enter the quantity of hats available:  2\n",
      "Enter the quantity of books available:  2\n",
      "Enter the quantity of keychains available:  2\n",
      "How many products does the customer want to order?  2\n",
      "Enter product 1 (t-shirt, mug, hat, book, keychain):  hat\n",
      "Enter product 2 (t-shirt, mug, hat, book, keychain):  mug\n"
     ]
    },
    {
     "name": "stdout",
     "output_type": "stream",
     "text": [
      "\n",
      "Order Statistics:\n",
      "Total Products Ordered: 2\n",
      "Percentage of Unique Products Ordered:  40.00%\n",
      "\n",
      "Updated Inventory:\n",
      "t-shirt: 2\n",
      "mug: 1\n",
      "hat: 1\n",
      "book: 2\n",
      "keychain: 2\n"
     ]
    },
    {
     "name": "stdin",
     "output_type": "stream",
     "text": [
      "Enter the price for hat:  2\n",
      "Enter the price for mug:  2\n"
     ]
    },
    {
     "name": "stdout",
     "output_type": "stream",
     "text": [
      "Total price of the order: 4.0\n"
     ]
    }
   ],
   "source": [
    "products = [\"t-shirt\", \"mug\", \"hat\", \"book\", \"keychain\"]\n",
    "\n",
    "def initialize_inventory(products):\n",
    "    inventory = {}\n",
    "    for product in products:\n",
    "        valid_quantity = False\n",
    "        while not valid_quantity:\n",
    "            try:\n",
    "                quantity = int(input(f\"Enter the quantity of {product}s available: \"))\n",
    "                if quantity < 0:\n",
    "                    raise ValueError(\"Invalid quantity! Please enter a non-negative value.\")\n",
    "                valid_quantity = True\n",
    "            except ValueError as error:\n",
    "                print(f\"Error: {error}\")\n",
    "        inventory[product] = quantity\n",
    "    return inventory\n",
    "       \n",
    "def get_customer_orders(inventory):\n",
    "    customer_orders = set()\n",
    "    valid_num_orders = False \n",
    "    while not valid_num_orders:\n",
    "        try:\n",
    "            num_orders = int(input(\"How many products does the customer want to order? \"))\n",
    "            if num_orders <= 0:\n",
    "                print(\"The number of orders must be positive. Please enter a valid number.\")\n",
    "            else:\n",
    "                valid_num_orders = True  \n",
    "        except ValueError:\n",
    "            print(\"Invalid input. Please enter a numeric value for the number of orders.\")\n",
    "    for i in range(num_orders):\n",
    "        valid_input = False\n",
    "        while not valid_input:\n",
    "            try:\n",
    "                product = input(f\"Enter product {i+1} (t-shirt, mug, hat, book, keychain): \").lower()\n",
    "                if product in inventory:\n",
    "                    if inventory[product] > 0:\n",
    "                        customer_orders.add(product)\n",
    "                        valid_input = True  \n",
    "                    else:\n",
    "                        print(f\"Sorry, {product} is out of stock. Please choose another product.\")\n",
    "                else:\n",
    "                    print(f\"Invalid product: {product}. Please enter a valid product from the inventory.\")\n",
    "            except Exception as e:\n",
    "                print(f\"An unexpected error occurred: {e}. Please try again.\")\n",
    "    return customer_orders\n",
    "\n",
    "def calculate_total_price(customer_orders):\n",
    "    prices = []\n",
    "    for product in customer_orders:\n",
    "        valid_price = False\n",
    "        while not valid_price:\n",
    "            try:\n",
    "                price = float(input(f\"Enter the price for {product}: \"))\n",
    "                if price < 0:\n",
    "                    print(\"Price cannot be negative. Please enter a valid price.\")\n",
    "                else:\n",
    "                    valid_price = True  \n",
    "                    prices.append(price) \n",
    "            except ValueError:\n",
    "                print(\"Invalid input. Please enter a numeric value.\")\n",
    "    total_order_price = sum(prices)\n",
    "    return total_order_price\n",
    "\n",
    "def update_inventory(customer_orders, inventory):\n",
    "    for product in customer_orders:\n",
    "        if inventory[product] > 0:\n",
    "          inventory[product] -= 1\n",
    "          if inventory[product] == 0:\n",
    "              print(f\"{product} is now out of stock.\")\n",
    "    return inventory\n",
    "   \n",
    "def calculate_order_statistics(customer_orders, products):\n",
    "    total_products_ordered = len(customer_orders)\n",
    "    unique_percentage = (total_products_ordered / len(products)) * 100\n",
    "    return total_products_ordered, unique_percentage\n",
    "\n",
    "def print_updated_inventory(inventory): \n",
    "    inventory = {product: quantity for product, quantity in inventory.items() if quantity > 0}\n",
    "    print(\"Updated Inventory:\")\n",
    "    for product, quantity in inventory.items():\n",
    "        print(f\"{product}: {quantity}\")\n",
    "    total_price = float(calculate_total_price(customer_orders))\n",
    "    print(f\"Total price of the order: {total_price}\")\n",
    "\n",
    "def print_order_statistics(order_statistics):\n",
    "    total_products_ordered, unique_percentage = order_statistics\n",
    "    print(\n",
    "f\"\"\"\n",
    "Order Statistics:\n",
    "Total Products Ordered: {total_products_ordered}\n",
    "Percentage of Unique Products Ordered: {unique_percentage: .2f}%\n",
    "\"\"\")\n",
    "\n",
    "inventory = initialize_inventory(products)\n",
    "customer_orders = get_customer_orders(inventory)\n",
    "update_inventory(customer_orders, inventory)\n",
    "order_statistics = calculate_order_statistics(customer_orders, products) \n",
    "print_order_statistics(order_statistics)\n",
    "print_updated_inventory(inventory) "
   ]
  },
  {
   "cell_type": "code",
   "execution_count": null,
   "id": "ed1b2a59-77ea-43cf-852e-55051fe18bc9",
   "metadata": {},
   "outputs": [],
   "source": []
  }
 ],
 "metadata": {
  "kernelspec": {
   "display_name": "Python 3 (ipykernel)",
   "language": "python",
   "name": "python3"
  },
  "language_info": {
   "codemirror_mode": {
    "name": "ipython",
    "version": 3
   },
   "file_extension": ".py",
   "mimetype": "text/x-python",
   "name": "python",
   "nbconvert_exporter": "python",
   "pygments_lexer": "ipython3",
   "version": "3.12.4"
  },
  "toc": {
   "base_numbering": 1
  }
 },
 "nbformat": 4,
 "nbformat_minor": 5
}
